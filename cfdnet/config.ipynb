{
 "cells": [
  {
   "cell_type": "code",
   "execution_count": 1,
   "id": "23108896-21e9-437f-a1c0-9f65525e1cab",
   "metadata": {
    "tags": []
   },
   "outputs": [],
   "source": [
    "import os\n",
    "os.environ[\"CUDA_VISIBLE_DEVICES\"] = \"4\"\n",
    "import sys\n",
    "from glob import glob\n",
    "import copy\n",
    "import matplotlib.pyplot as plt\n",
    "import cv2\n",
    "import socks\n",
    "import socket\n",
    "socks.set_default_proxy(socks.SOCKS5, \"192.168.205.183\", 10810)\n",
    "socket.socket = socks.socksocket"
   ]
  },
  {
   "cell_type": "code",
   "execution_count": 4,
   "id": "bc60faae-830a-4e16-aa94-74b8d4913f6e",
   "metadata": {
    "tags": []
   },
   "outputs": [],
   "source": [
    "from PIL import  Image\n",
    "img = Image.open('/home/wanghaifeng/project_work/datasets/disaster_dataset/imgs8/train/t2/99.9505_25.6705_0.01_img.png')\n",
    "img = img.resize((640,640))\n",
    "img0 = cv2.imread('/home/wanghaifeng/project_work/datasets/disaster_dataset/harvey/train/t1/E243100N3303400UTM15R.png')\n",
    "label = cv2.imread('/home/wanghaifeng/project_work/datasets/disaster_dataset/harvey/train/mask1_2/E243100N3303400UTM15R.png')\n",
    "model_config_path = r'/home/wanghaifeng/whf_work/work_sync/models_seg/model_works/vgg_unet/vgg_unet_2024_01_19_15_04_52/model_config.json'"
   ]
  },
  {
   "cell_type": "code",
   "execution_count": 5,
   "id": "6e941f70-5b60-43f0-bdeb-a02e2c84e1f1",
   "metadata": {
    "tags": []
   },
   "outputs": [],
   "source": [
    "model_config_path = r'/home/wanghaifeng/whf_work/work_sync/models_seg/model_works/vgg_unet/vgg_unet_2024_01_19_15_04_52/model_config.json'"
   ]
  },
  {
   "cell_type": "code",
   "execution_count": null,
   "id": "eae6531d-d7dc-4cb0-9c6b-ad176c9d5107",
   "metadata": {},
   "outputs": [],
   "source": []
  }
 ],
 "metadata": {
  "kernelspec": {
   "display_name": "Python 3 (ipykernel)",
   "language": "python",
   "name": "python3"
  },
  "language_info": {
   "codemirror_mode": {
    "name": "ipython",
    "version": 3
   },
   "file_extension": ".py",
   "mimetype": "text/x-python",
   "name": "python",
   "nbconvert_exporter": "python",
   "pygments_lexer": "ipython3",
   "version": "3.10.13"
  }
 },
 "nbformat": 4,
 "nbformat_minor": 5
}
